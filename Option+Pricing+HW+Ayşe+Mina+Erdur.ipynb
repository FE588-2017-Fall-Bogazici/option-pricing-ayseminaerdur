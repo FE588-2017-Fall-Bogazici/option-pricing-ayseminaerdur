{
 "cells": [
  {
   "cell_type": "code",
   "execution_count": 5,
   "metadata": {},
   "outputs": [
    {
     "name": "stdout",
     "output_type": "stream",
     "text": [
      "max_price : 104.676398832\n",
      "min_price : 96.3236221041\n",
      "strike_price 98.3132947751\n",
      "call_option_price: 0.0\n",
      "put_option_price: 12.7803477604\n"
     ]
    }
   ],
   "source": [
    "import numpy as np\n",
    "import math\n",
    "\n",
    "r = 0.05\n",
    "s0 = 100\n",
    "K = 110\n",
    "sigma = 0.1\n",
    "T=1\n",
    "N=100\n",
    "EPOCH=100\n",
    "\n",
    "C=0\n",
    "P=0\n",
    "wt=0\n",
    "stArray=[]\n",
    "\n",
    "for i in range(EPOCH):\n",
    "    for i in range(N):\n",
    "        wt= np.random.randn()*np.sqrt(T/N)\n",
    "        st = s0* np.exp((r-1/2*sigma**2)*(T/N)+sigma*wt)\n",
    "        stArray.append(st)\n",
    "\n",
    "    C += np.exp(-r*T)*max(0,(max(stArray)-K))\n",
    "    P += np.exp(-r*T)*max(0,(K-min(stArray)))\n",
    "\n",
    "callOptionPrice = C/EPOCH\n",
    "putOptionPrice = P/EPOCH\n",
    "\n",
    "print('max_price :',max(stArray))\n",
    "print('min_price :',min(stArray))\n",
    "print('strike_price',st)\n",
    "print('call_option_price:',callOptionPrice)\n",
    "print('put_option_price:',putOptionPrice)"
   ]
  },
  {
   "cell_type": "code",
   "execution_count": 4,
   "metadata": {},
   "outputs": [
    {
     "name": "stdout",
     "output_type": "stream",
     "text": [
      "last_price :  100.585378085\n",
      "max_price : 103.944456326\n",
      "min_price : 96.4338427513\n",
      "strike_price : 100.585378085\n",
      "call_option_price: 3.21467187249\n",
      "put_option_price: 3.4692725425\n"
     ]
    }
   ],
   "source": [
    "import numpy as np\n",
    "\n",
    "r = 0.05\n",
    "s0 = 100\n",
    "K = 110\n",
    "sigma = 0.1\n",
    "T=1\n",
    "N=100\n",
    "EPOCH=100\n",
    "\n",
    "C=0\n",
    "P=0\n",
    "wt=0\n",
    "st=0\n",
    "stArray=[]\n",
    "\n",
    "for i in range(EPOCH):\n",
    "    for i in range(N):\n",
    "        wt= np.random.randn()*np.sqrt(T/N)\n",
    "        st = s0* np.exp((r-1/2*sigma**2)*(T/N)+sigma*wt)\n",
    "        stArray.append(st)\n",
    "\n",
    "    C += np.exp(-r*T)*max(0,(st-min(stArray)))\n",
    "    P += np.exp(-r*T)*max(0,(max(stArray)-st))\n",
    "\n",
    "callOptionPrice = C/EPOCH\n",
    "putOptionPrice = P/EPOCH\n",
    "\n",
    "print('last_price : ',st)\n",
    "print('max_price :',max(stArray))\n",
    "print('min_price :',min(stArray))\n",
    "print('strike_price :',st)\n",
    "print('call_option_price:',callOptionPrice)\n",
    "print('put_option_price:',putOptionPrice)"
   ]
  }
 ],
 "metadata": {
  "kernelspec": {
   "display_name": "Python 3",
   "language": "python",
   "name": "python3"
  },
  "language_info": {
   "codemirror_mode": {
    "name": "ipython",
    "version": 3
   },
   "file_extension": ".py",
   "mimetype": "text/x-python",
   "name": "python",
   "nbconvert_exporter": "python",
   "pygments_lexer": "ipython3",
   "version": "3.6.1"
  }
 },
 "nbformat": 4,
 "nbformat_minor": 2
}
